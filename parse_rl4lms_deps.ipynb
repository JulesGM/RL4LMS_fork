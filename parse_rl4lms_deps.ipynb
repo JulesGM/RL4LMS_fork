{
 "cells": [
  {
   "cell_type": "code",
   "execution_count": 1,
   "metadata": {},
   "outputs": [],
   "source": [
    "import json\n",
    "\n",
    "from pathlib import Path\n",
    "import os\n",
    "import re\n",
    "import subprocess\n",
    "import sys\n",
    "\n",
    "from IPython.display import display\n",
    "import pandas as pd\n",
    "import rich\n",
    "import rich.console\n",
    "import rich.table\n",
    "import tqdm"
   ]
  },
  {
   "cell_type": "code",
   "execution_count": 2,
   "metadata": {},
   "outputs": [],
   "source": [
    "def dict_to_pandas(d):\n",
    "    return pd.DataFrame({\"name\": list(d.keys()), \"version\": list(d.values())})\n",
    "\n",
    "def parse(text):\n",
    "    reqs_text = [x.strip().replace(\" \", \"\") for x in text.split(\"\\n\")]\n",
    "    reqs_text.sort()\n",
    "    deps = {}\n",
    "\n",
    "    for line in reqs_text:\n",
    "        output = re.split(r\"==|<|@\", line, 1)\n",
    "        \n",
    "        if len(output) == 2:\n",
    "            package, version = output\n",
    "            deps[package] = version\n",
    "        else:\n",
    "            assert len(output) == 1, f\"bad - got {len(output)}: {line}\"\n",
    "            package = output[0]\n",
    "            deps[package] = None\n",
    "    return deps\n",
    "\n",
    "pckg_deps = parse(Path(\"/home/mila/g/gagnonju/RL4LMs/requirements.txt\").read_text().strip())\n",
    "our_deps = parse(subprocess.check_output([\"pip\", \"freeze\"]).decode().strip())"
   ]
  },
  {
   "cell_type": "code",
   "execution_count": 13,
   "metadata": {},
   "outputs": [
    {
     "data": {
      "text/html": [
       "<pre style=\"white-space:pre;overflow-x:auto;line-height:normal;font-family:Menlo,'DejaVu Sans Mono',consolas,'Courier New',monospace\"><span style=\"font-style: italic\">                                Package versions                                </span>\n",
       "┏━━━━━━━━━━━━━━━━━━━━┳━━━━━━━━━━━━━━━━━━━━━━━━━━━━┳━━━━━━━━━━━━━━━━━━━━━━━━━━━━┓\n",
       "┃<span style=\"font-weight: bold\"> name               </span>┃<span style=\"font-weight: bold\"> package                    </span>┃<span style=\"font-weight: bold\"> pip                        </span>┃\n",
       "┡━━━━━━━━━━━━━━━━━━━━╇━━━━━━━━━━━━━━━━━━━━━━━━━━━━╇━━━━━━━━━━━━━━━━━━━━━━━━━━━━┩\n",
       "│ <span style=\"color: #008000; text-decoration-color: #008000\">BLEURT</span>             │ <span style=\"color: #008000; text-decoration-color: #008000\">git+https://github.com/go…</span> │ <span style=\"color: #008000; text-decoration-color: #008000\">git+https://github.com/go…</span> │\n",
       "│ <span style=\"color: #008000; text-decoration-color: #008000\">absl-py</span>            │ <span style=\"color: #008000; text-decoration-color: #008000\">None</span>                       │ <span style=\"color: #008000; text-decoration-color: #008000\">1.3.0</span>                      │\n",
       "│ <span style=\"color: #008000; text-decoration-color: #008000\">bert-score</span>         │ <span style=\"color: #008000; text-decoration-color: #008000\">0.3.11</span>                     │ <span style=\"color: #008000; text-decoration-color: #008000\">0.3.11</span>                     │\n",
       "│ <span style=\"color: #008000; text-decoration-color: #008000\">datasets</span>           │ <span style=\"color: #008000; text-decoration-color: #008000\">None</span>                       │ <span style=\"color: #008000; text-decoration-color: #008000\">2.7.0</span>                      │\n",
       "│ <span style=\"color: #008000; text-decoration-color: #008000\">gem-metrics</span>        │ <span style=\"color: #008000; text-decoration-color: #008000\">git+https://github.com/GE…</span> │ <span style=\"color: #008000; text-decoration-color: #008000\">git+https://github.com/GE…</span> │\n",
       "│ <span style=\"color: #008000; text-decoration-color: #008000\">gym</span>                │ <span style=\"color: #008000; text-decoration-color: #008000\">0.21.0</span>                     │ <span style=\"color: #008000; text-decoration-color: #008000\">0.21.0</span>                     │\n",
       "│ <span style=\"color: #800000; text-decoration-color: #800000; font-weight: bold\">importlib-metadata</span> │ <span style=\"color: #800000; text-decoration-color: #800000; font-weight: bold\">5.0</span>                        │ <span style=\"color: #800000; text-decoration-color: #800000; font-weight: bold\">4.13.0</span>                     │\n",
       "│ <span style=\"color: #008000; text-decoration-color: #008000\">jsonlines</span>          │ <span style=\"color: #008000; text-decoration-color: #008000\">None</span>                       │ <span style=\"color: #008000; text-decoration-color: #008000\">3.1.0</span>                      │\n",
       "│ <span style=\"color: #008000; text-decoration-color: #008000\">nltk</span>               │ <span style=\"color: #008000; text-decoration-color: #008000\">3.7</span>                        │ <span style=\"color: #008000; text-decoration-color: #008000\">3.7</span>                        │\n",
       "│ <span style=\"color: #008000; text-decoration-color: #008000\">pandas</span>             │ <span style=\"color: #008000; text-decoration-color: #008000\">None</span>                       │ <span style=\"color: #008000; text-decoration-color: #008000\">1.4.2</span>                      │\n",
       "│ <span style=\"color: #008000; text-decoration-color: #008000\">py-rouge</span>           │ <span style=\"color: #008000; text-decoration-color: #008000\">1.1</span>                        │ <span style=\"color: #008000; text-decoration-color: #008000\">1.1</span>                        │\n",
       "│ <span style=\"color: #008000; text-decoration-color: #008000\">rich</span>               │ <span style=\"color: #008000; text-decoration-color: #008000\">None</span>                       │ <span style=\"color: #008000; text-decoration-color: #008000\">12.6.0</span>                     │\n",
       "│ <span style=\"color: #008000; text-decoration-color: #008000\">sacrebleu</span>          │ <span style=\"color: #008000; text-decoration-color: #008000\">2.2.0</span>                      │ <span style=\"color: #008000; text-decoration-color: #008000\">2.2.0</span>                      │\n",
       "│ <span style=\"color: #008000; text-decoration-color: #008000\">spacy</span>              │ <span style=\"color: #008000; text-decoration-color: #008000\">None</span>                       │ <span style=\"color: #008000; text-decoration-color: #008000\">3.4.3</span>                      │\n",
       "│ <span style=\"color: #008000; text-decoration-color: #008000\">stable-baselines3</span>  │ <span style=\"color: #008000; text-decoration-color: #008000\">1.5.1a5</span>                    │ <span style=\"color: #008000; text-decoration-color: #008000\">1.5.1a5</span>                    │\n",
       "│ <span style=\"color: #008000; text-decoration-color: #008000\">torch</span>              │ <span style=\"color: #008000; text-decoration-color: #008000\">None</span>                       │ <span style=\"color: #008000; text-decoration-color: #008000\">1.12.1+cu113</span>               │\n",
       "│ <span style=\"color: #008000; text-decoration-color: #008000\">torchvision</span>        │ <span style=\"color: #008000; text-decoration-color: #008000\">None</span>                       │ <span style=\"color: #008000; text-decoration-color: #008000\">0.13.1+cu113</span>               │\n",
       "│ <span style=\"color: #008000; text-decoration-color: #008000\">tqdm</span>               │ <span style=\"color: #008000; text-decoration-color: #008000\">None</span>                       │ <span style=\"color: #008000; text-decoration-color: #008000\">4.64.1</span>                     │\n",
       "│ <span style=\"color: #008000; text-decoration-color: #008000\">transformers</span>       │ <span style=\"color: #008000; text-decoration-color: #008000\">None</span>                       │ <span style=\"color: #008000; text-decoration-color: #008000\">4.24.0</span>                     │\n",
       "│ <span style=\"color: #008000; text-decoration-color: #008000\">wandb</span>              │ <span style=\"color: #008000; text-decoration-color: #008000\">None</span>                       │ <span style=\"color: #008000; text-decoration-color: #008000\">0.13.5</span>                     │\n",
       "└────────────────────┴────────────────────────────┴────────────────────────────┘\n",
       "</pre>\n"
      ],
      "text/plain": [
       "\u001b[3m                                Package versions                                \u001b[0m\n",
       "┏━━━━━━━━━━━━━━━━━━━━┳━━━━━━━━━━━━━━━━━━━━━━━━━━━━┳━━━━━━━━━━━━━━━━━━━━━━━━━━━━┓\n",
       "┃\u001b[1m \u001b[0m\u001b[1mname              \u001b[0m\u001b[1m \u001b[0m┃\u001b[1m \u001b[0m\u001b[1mpackage                   \u001b[0m\u001b[1m \u001b[0m┃\u001b[1m \u001b[0m\u001b[1mpip                       \u001b[0m\u001b[1m \u001b[0m┃\n",
       "┡━━━━━━━━━━━━━━━━━━━━╇━━━━━━━━━━━━━━━━━━━━━━━━━━━━╇━━━━━━━━━━━━━━━━━━━━━━━━━━━━┩\n",
       "│ \u001b[32mBLEURT\u001b[0m             │ \u001b[32mgit+https://github.com/go…\u001b[0m │ \u001b[32mgit+https://github.com/go…\u001b[0m │\n",
       "│ \u001b[32mabsl-py\u001b[0m            │ \u001b[32mNone\u001b[0m                       │ \u001b[32m1.3.0\u001b[0m                      │\n",
       "│ \u001b[32mbert-score\u001b[0m         │ \u001b[32m0.3.11\u001b[0m                     │ \u001b[32m0.3.11\u001b[0m                     │\n",
       "│ \u001b[32mdatasets\u001b[0m           │ \u001b[32mNone\u001b[0m                       │ \u001b[32m2.7.0\u001b[0m                      │\n",
       "│ \u001b[32mgem-metrics\u001b[0m        │ \u001b[32mgit+https://github.com/GE…\u001b[0m │ \u001b[32mgit+https://github.com/GE…\u001b[0m │\n",
       "│ \u001b[32mgym\u001b[0m                │ \u001b[32m0.21.0\u001b[0m                     │ \u001b[32m0.21.0\u001b[0m                     │\n",
       "│ \u001b[1;31mimportlib-metadata\u001b[0m │ \u001b[1;31m5.0\u001b[0m                        │ \u001b[1;31m4.13.0\u001b[0m                     │\n",
       "│ \u001b[32mjsonlines\u001b[0m          │ \u001b[32mNone\u001b[0m                       │ \u001b[32m3.1.0\u001b[0m                      │\n",
       "│ \u001b[32mnltk\u001b[0m               │ \u001b[32m3.7\u001b[0m                        │ \u001b[32m3.7\u001b[0m                        │\n",
       "│ \u001b[32mpandas\u001b[0m             │ \u001b[32mNone\u001b[0m                       │ \u001b[32m1.4.2\u001b[0m                      │\n",
       "│ \u001b[32mpy-rouge\u001b[0m           │ \u001b[32m1.1\u001b[0m                        │ \u001b[32m1.1\u001b[0m                        │\n",
       "│ \u001b[32mrich\u001b[0m               │ \u001b[32mNone\u001b[0m                       │ \u001b[32m12.6.0\u001b[0m                     │\n",
       "│ \u001b[32msacrebleu\u001b[0m          │ \u001b[32m2.2.0\u001b[0m                      │ \u001b[32m2.2.0\u001b[0m                      │\n",
       "│ \u001b[32mspacy\u001b[0m              │ \u001b[32mNone\u001b[0m                       │ \u001b[32m3.4.3\u001b[0m                      │\n",
       "│ \u001b[32mstable-baselines3\u001b[0m  │ \u001b[32m1.5.1a5\u001b[0m                    │ \u001b[32m1.5.1a5\u001b[0m                    │\n",
       "│ \u001b[32mtorch\u001b[0m              │ \u001b[32mNone\u001b[0m                       │ \u001b[32m1.12.1+cu113\u001b[0m               │\n",
       "│ \u001b[32mtorchvision\u001b[0m        │ \u001b[32mNone\u001b[0m                       │ \u001b[32m0.13.1+cu113\u001b[0m               │\n",
       "│ \u001b[32mtqdm\u001b[0m               │ \u001b[32mNone\u001b[0m                       │ \u001b[32m4.64.1\u001b[0m                     │\n",
       "│ \u001b[32mtransformers\u001b[0m       │ \u001b[32mNone\u001b[0m                       │ \u001b[32m4.24.0\u001b[0m                     │\n",
       "│ \u001b[32mwandb\u001b[0m              │ \u001b[32mNone\u001b[0m                       │ \u001b[32m0.13.5\u001b[0m                     │\n",
       "└────────────────────┴────────────────────────────┴────────────────────────────┘\n"
      ]
     },
     "metadata": {},
     "output_type": "display_data"
    }
   ],
   "source": [
    "name = []\n",
    "version_a = []\n",
    "version_b = []\n",
    "\n",
    "for key in pckg_deps:\n",
    "    if key in our_deps:\n",
    "        name.append(key)\n",
    "        version_a.append(pckg_deps[key])\n",
    "        version_b.append(our_deps[key])\n",
    "\n",
    "output_dict = {\"name\": name, \"package\": version_a, \"pip\": version_b}\n",
    "\n",
    "table = rich.table.Table(*output_dict, title=\"Package versions\")\n",
    "for a, b, c in zip(*output_dict.values()):\n",
    "    b_is_none = b is None\n",
    "    b = str(b)\n",
    "    c = str(c)\n",
    "    if b.strip() == c.strip() or b_is_none:\n",
    "        table.add_row(f\"[green]{a}\", f\"[green]{b}\", f\"[green]{c}\")\n",
    "    else:\n",
    "        table.add_row(f\"[red bold]{a}\", f\"[red bold]{b}\", f\"[red bold]{c}\")\n",
    "\n",
    "rich.console.Console(width=80).print(table)\n"
   ]
  },
  {
   "cell_type": "code",
   "execution_count": null,
   "metadata": {},
   "outputs": [],
   "source": []
  }
 ],
 "metadata": {
  "kernelspec": {
   "display_name": "Python 3.9.12 ('base')",
   "language": "python",
   "name": "python3"
  },
  "language_info": {
   "codemirror_mode": {
    "name": "ipython",
    "version": 3
   },
   "file_extension": ".py",
   "mimetype": "text/x-python",
   "name": "python",
   "nbconvert_exporter": "python",
   "pygments_lexer": "ipython3",
   "version": "3.9.12"
  },
  "orig_nbformat": 4,
  "vscode": {
   "interpreter": {
    "hash": "e5df931a2f82070a33ae1c20bff26f0f27f06960f553260770733988e82cce89"
   }
  }
 },
 "nbformat": 4,
 "nbformat_minor": 2
}
